{
 "cells": [
  {
   "cell_type": "markdown",
   "metadata": {
    "id": "Bb4QIJiuOksc"
   },
   "source": [
    "# Welcome to <font color=\"red\">QC Hackathon 2021</font>!\n",
    "\n",
    "Quantum Coputation is an up and coming field that uses quantum gates to perform operations which exploit properties of a quantum state like superposition, and entanglement to perform computations. The aim is to solve computation problems in executable time that might not be solvable using its classical analogue. In this hackathon, we will be introducing you to challenges of different difficulty levels. \n",
    "\n",
    "A good introduction to all of these concepts can be found in the [qiskit textbook](https://qiskit.org/textbook/preface.html). We will be using qiskit in this hackathon. \n",
    "\n",
    "\n"
   ]
  },
  {
   "cell_type": "markdown",
   "metadata": {
    "id": "tULi4LXO83vD"
   },
   "source": [
    "# Challenge Tier - I\n",
    "For this first set of challenges, we encourage you to read [Section 1.4](https://qiskit.org/textbook/ch-states/single-qubit-gates.html) and [Section 2.2](https://qiskit.org/textbook/ch-gates/multiple-qubits-entangled-states.html) to get familiar with the basics of quantum computing."
   ]
  },
  {
   "cell_type": "code",
   "execution_count": 1,
   "metadata": {},
   "outputs": [
    {
     "name": "stdout",
     "output_type": "stream",
     "text": [
      "Requirement already satisfied: qiskit in c:\\users\\soham\\anaconda3\\lib\\site-packages (0.27.0)\n",
      "Requirement already satisfied: qiskit-ibmq-provider==0.14.0 in c:\\users\\soham\\anaconda3\\lib\\site-packages (from qiskit) (0.14.0)\n",
      "Requirement already satisfied: qiskit-aqua==0.9.2 in c:\\users\\soham\\anaconda3\\lib\\site-packages (from qiskit) (0.9.2)\n",
      "Requirement already satisfied: qiskit-ignis==0.6.0 in c:\\users\\soham\\anaconda3\\lib\\site-packages (from qiskit) (0.6.0)\n",
      "Requirement already satisfied: qiskit-aer==0.8.2 in c:\\users\\soham\\anaconda3\\lib\\site-packages (from qiskit) (0.8.2)\n",
      "Requirement already satisfied: qiskit-terra==0.17.4 in c:\\users\\soham\\anaconda3\\lib\\site-packages (from qiskit) (0.17.4)\n",
      "Requirement already satisfied: numpy>=1.16.3 in c:\\users\\soham\\anaconda3\\lib\\site-packages (from qiskit-aer==0.8.2->qiskit) (1.20.1)\n",
      "Requirement already satisfied: scipy>=1.0 in c:\\users\\soham\\anaconda3\\lib\\site-packages (from qiskit-aer==0.8.2->qiskit) (1.6.2)\n",
      "Requirement already satisfied: pybind11>=2.6 in c:\\users\\soham\\anaconda3\\lib\\site-packages (from qiskit-aer==0.8.2->qiskit) (2.6.2)\n",
      "Requirement already satisfied: yfinance in c:\\users\\soham\\anaconda3\\lib\\site-packages (from qiskit-aqua==0.9.2->qiskit) (0.1.61)\n",
      "Requirement already satisfied: docplex<=2.20.204 in c:\\users\\soham\\anaconda3\\lib\\site-packages (from qiskit-aqua==0.9.2->qiskit) (2.20.204)\n",
      "Requirement already satisfied: setuptools>=40.1.0 in c:\\users\\soham\\anaconda3\\lib\\site-packages (from qiskit-aqua==0.9.2->qiskit) (52.0.0.post20210125)\n",
      "Requirement already satisfied: pandas in c:\\users\\soham\\anaconda3\\lib\\site-packages (from qiskit-aqua==0.9.2->qiskit) (1.2.4)\n",
      "Requirement already satisfied: quandl in c:\\users\\soham\\anaconda3\\lib\\site-packages (from qiskit-aqua==0.9.2->qiskit) (3.6.1)\n",
      "Requirement already satisfied: fastdtw<=0.3.4 in c:\\users\\soham\\anaconda3\\lib\\site-packages (from qiskit-aqua==0.9.2->qiskit) (0.3.4)\n",
      "Requirement already satisfied: scikit-learn>=0.20.0 in c:\\users\\soham\\anaconda3\\lib\\site-packages (from qiskit-aqua==0.9.2->qiskit) (0.24.1)\n",
      "Requirement already satisfied: sympy>=1.3 in c:\\users\\soham\\anaconda3\\lib\\site-packages (from qiskit-aqua==0.9.2->qiskit) (1.8)\n",
      "Requirement already satisfied: retworkx>=0.8.0 in c:\\users\\soham\\anaconda3\\lib\\site-packages (from qiskit-aqua==0.9.2->qiskit) (0.9.0)\n",
      "Requirement already satisfied: dlx<=1.0.4 in c:\\users\\soham\\anaconda3\\lib\\site-packages (from qiskit-aqua==0.9.2->qiskit) (1.0.4)\n",
      "Requirement already satisfied: h5py in c:\\users\\soham\\anaconda3\\lib\\site-packages (from qiskit-aqua==0.9.2->qiskit) (2.10.0)\n",
      "Requirement already satisfied: psutil>=5 in c:\\users\\soham\\anaconda3\\lib\\site-packages (from qiskit-aqua==0.9.2->qiskit) (5.8.0)\n",
      "Requirement already satisfied: dill>=0.3 in c:\\users\\soham\\anaconda3\\lib\\site-packages (from qiskit-ibmq-provider==0.14.0->qiskit) (0.3.4)\n",
      "Requirement already satisfied: python-dateutil>=2.8.0 in c:\\users\\soham\\anaconda3\\lib\\site-packages (from qiskit-ibmq-provider==0.14.0->qiskit) (2.8.1)\n",
      "Requirement already satisfied: websocket-client>=1.0.1 in c:\\users\\soham\\anaconda3\\lib\\site-packages (from qiskit-ibmq-provider==0.14.0->qiskit) (1.1.0)\n",
      "Requirement already satisfied: requests>=2.19 in c:\\users\\soham\\anaconda3\\lib\\site-packages (from qiskit-ibmq-provider==0.14.0->qiskit) (2.25.1)\n",
      "Requirement already satisfied: urllib3>=1.21.1 in c:\\users\\soham\\anaconda3\\lib\\site-packages (from qiskit-ibmq-provider==0.14.0->qiskit) (1.26.4)\n",
      "Requirement already satisfied: requests-ntlm>=1.1.0 in c:\\users\\soham\\anaconda3\\lib\\site-packages (from qiskit-ibmq-provider==0.14.0->qiskit) (1.1.0)\n",
      "Requirement already satisfied: jsonschema>=2.6 in c:\\users\\soham\\anaconda3\\lib\\site-packages (from qiskit-terra==0.17.4->qiskit) (3.2.0)\n",
      "Requirement already satisfied: python-constraint>=1.4 in c:\\users\\soham\\anaconda3\\lib\\site-packages (from qiskit-terra==0.17.4->qiskit) (1.4.0)\n",
      "Requirement already satisfied: fastjsonschema>=2.10 in c:\\users\\soham\\anaconda3\\lib\\site-packages (from qiskit-terra==0.17.4->qiskit) (2.15.1)\n",
      "Requirement already satisfied: ply>=3.10 in c:\\users\\soham\\anaconda3\\lib\\site-packages (from qiskit-terra==0.17.4->qiskit) (3.11)\n",
      "Requirement already satisfied: six in c:\\users\\soham\\anaconda3\\lib\\site-packages (from docplex<=2.20.204->qiskit-aqua==0.9.2->qiskit) (1.15.0)\n",
      "Requirement already satisfied: attrs>=17.4.0 in c:\\users\\soham\\anaconda3\\lib\\site-packages (from jsonschema>=2.6->qiskit-terra==0.17.4->qiskit) (20.3.0)\n",
      "Requirement already satisfied: pyrsistent>=0.14.0 in c:\\users\\soham\\anaconda3\\lib\\site-packages (from jsonschema>=2.6->qiskit-terra==0.17.4->qiskit) (0.17.3)\n",
      "Requirement already satisfied: chardet<5,>=3.0.2 in c:\\users\\soham\\anaconda3\\lib\\site-packages (from requests>=2.19->qiskit-ibmq-provider==0.14.0->qiskit) (4.0.0)\n",
      "Requirement already satisfied: idna<3,>=2.5 in c:\\users\\soham\\anaconda3\\lib\\site-packages (from requests>=2.19->qiskit-ibmq-provider==0.14.0->qiskit) (2.10)\n",
      "Requirement already satisfied: certifi>=2017.4.17 in c:\\users\\soham\\anaconda3\\lib\\site-packages (from requests>=2.19->qiskit-ibmq-provider==0.14.0->qiskit) (2020.12.5)\n",
      "Requirement already satisfied: cryptography>=1.3 in c:\\users\\soham\\anaconda3\\lib\\site-packages (from requests-ntlm>=1.1.0->qiskit-ibmq-provider==0.14.0->qiskit) (3.4.7)\n",
      "Requirement already satisfied: ntlm-auth>=1.0.2 in c:\\users\\soham\\anaconda3\\lib\\site-packages (from requests-ntlm>=1.1.0->qiskit-ibmq-provider==0.14.0->qiskit) (1.5.0)\n",
      "Requirement already satisfied: cffi>=1.12 in c:\\users\\soham\\anaconda3\\lib\\site-packages (from cryptography>=1.3->requests-ntlm>=1.1.0->qiskit-ibmq-provider==0.14.0->qiskit) (1.14.5)\n",
      "Requirement already satisfied: pycparser in c:\\users\\soham\\anaconda3\\lib\\site-packages (from cffi>=1.12->cryptography>=1.3->requests-ntlm>=1.1.0->qiskit-ibmq-provider==0.14.0->qiskit) (2.20)\n",
      "Requirement already satisfied: joblib>=0.11 in c:\\users\\soham\\anaconda3\\lib\\site-packages (from scikit-learn>=0.20.0->qiskit-aqua==0.9.2->qiskit) (1.0.1)\n",
      "Requirement already satisfied: threadpoolctl>=2.0.0 in c:\\users\\soham\\anaconda3\\lib\\site-packages (from scikit-learn>=0.20.0->qiskit-aqua==0.9.2->qiskit) (2.1.0)\n",
      "Requirement already satisfied: mpmath>=0.19 in c:\\users\\soham\\anaconda3\\lib\\site-packages (from sympy>=1.3->qiskit-aqua==0.9.2->qiskit) (1.2.1)\n",
      "Requirement already satisfied: pytz>=2017.3 in c:\\users\\soham\\anaconda3\\lib\\site-packages (from pandas->qiskit-aqua==0.9.2->qiskit) (2021.1)\n",
      "Requirement already satisfied: inflection>=0.3.1 in c:\\users\\soham\\anaconda3\\lib\\site-packages (from quandl->qiskit-aqua==0.9.2->qiskit) (0.5.1)\n",
      "Requirement already satisfied: more-itertools in c:\\users\\soham\\anaconda3\\lib\\site-packages (from quandl->qiskit-aqua==0.9.2->qiskit) (8.7.0)\n",
      "Requirement already satisfied: multitasking>=0.0.7 in c:\\users\\soham\\anaconda3\\lib\\site-packages (from yfinance->qiskit-aqua==0.9.2->qiskit) (0.0.9)\n",
      "Requirement already satisfied: lxml>=4.5.1 in c:\\users\\soham\\anaconda3\\lib\\site-packages (from yfinance->qiskit-aqua==0.9.2->qiskit) (4.6.3)\n",
      "Collecting pylatexenc\n",
      "  Downloading pylatexenc-2.10.tar.gz (162 kB)\n",
      "Building wheels for collected packages: pylatexenc\n",
      "  Building wheel for pylatexenc (setup.py): started\n",
      "  Building wheel for pylatexenc (setup.py): finished with status 'done'\n",
      "  Created wheel for pylatexenc: filename=pylatexenc-2.10-py3-none-any.whl size=136823 sha256=efe8f94cdf3975c8dfaf331bfcdbe236f42f92129be09184c6064740926e34dd\n",
      "  Stored in directory: c:\\users\\soham\\appdata\\local\\pip\\cache\\wheels\\72\\99\\be\\81d9bcdf5dd5ee5acd8119a9dd5bc07204c9ce205fd341b021\n",
      "Successfully built pylatexenc\n",
      "Installing collected packages: pylatexenc\n",
      "Successfully installed pylatexenc-2.10\n"
     ]
    }
   ],
   "source": [
    "#before we start, run this cell to install qiskit\n",
    "!pip install qiskit\n",
    "!pip install pylatexenc"
   ]
  },
  {
   "cell_type": "markdown",
   "metadata": {
    "id": "oqF515b7wIGi"
   },
   "source": [
    "## Task 1 \n",
    "$$\\newcommand{\\ket}[1]{\\left|{#1}\\right\\rangle}$$\n",
    "$$\\newcommand{\\bra}[1]{\\left\\langle{#1}\\right|}$$\n",
    "\n",
    "An $H$ gate, or a Hadamard gate, is a single qubit gate which performs the following operations:\n",
    "<center>\n",
    "$\\begin{align}\n",
    "  H\\ket{0} &= \\dfrac{\\ket{0}+\\ket{1}}{\\sqrt{2}}\\\\\n",
    "  H\\ket{1} &= \\dfrac{\\ket{0}-\\ket{1}}{\\sqrt{2}}\n",
    "\\end{align}$ \n",
    "</center>\n",
    "\n",
    "A $Z$ gate, similarly, performs the following operations:\n",
    "<center>\n",
    "$\\begin{align}\n",
    "  Z\\ket{0} &= \\ket{0}\\\\\n",
    "  Z\\ket{1} &= -\\ket{1}\n",
    "\\end{align}$ \n",
    "</center>\n",
    "\n",
    "In this challenge, you will be given a single bit unitary operation that can either be an $H$ gate or a $Z$ gate. You can apply the unitary operation **at most twice**. Using what you learnt from [Section 1.4](https://qiskit.org/textbook/ch-states/single-qubit-gates.html), distinguish whether the given operation is an H gate or a Z gate.\n",
    "\n",
    "**Output:** 0 if it is the $Z$ gate, 1 if it is the $H$ gate."
   ]
  },
  {
   "cell_type": "code",
   "execution_count": 18,
   "metadata": {
    "id": "Jgyk9pmE023o",
    "scrolled": true
   },
   "outputs": [
    {
     "name": "stdout",
     "output_type": "stream",
     "text": [
      "       ┌───┐┌───┐┌───┐┌─┐\n",
      "q46_0: ┤ Z ├┤ Z ├┤ Z ├┤M├\n",
      "       └───┘└───┘└───┘└╥┘\n",
      " c1: 1/════════════════╩═\n",
      "                       0 \n",
      "{'0': 1024}\n"
     ]
    }
   ],
   "source": [
    "from qiskit import *\n",
    "\n",
    "def A1_solve(Unitary, qc):\n",
    "  ##########################################\n",
    "  #enter your code here\n",
    "  #To apply the unitary to the qubit, use syntax: Unitary(0)\n",
    "  Unitary(0)\n",
    "  qc.z(0)\n",
    "  Unitary(0)\n",
    "  #Expected Output: {'0': 1024} if Z gate; and\n",
    "  #                 {'1': 1024} if H gate\n",
    "  \n",
    "  ###########################################\n",
    "  qc.measure(0,0)\n",
    "  print(qc.draw())\n",
    "\n",
    "  backend = Aer.get_backend('qasm_simulator')\n",
    "  job = execute(qc, backend)\n",
    "  counts = job.result().get_counts()\n",
    "\n",
    "  return counts\n",
    "\n",
    "\n",
    "\n",
    "import random\n",
    "qr = QuantumRegister(1)\n",
    "cr = ClassicalRegister(1)\n",
    "A1_qc = QuantumCircuit(qr, cr)\n",
    "if __name__ == \"__main__\":\n",
    "  if random.uniform(0,1) < 0.5:\n",
    "    Unitary = A1_qc.z\n",
    "  else:\n",
    "    Unitary = A1_qc.h\n",
    "\n",
    "  _output = A1_solve(Unitary, A1_qc)\n",
    "  print(_output)"
   ]
  },
  {
   "cell_type": "markdown",
   "metadata": {
    "id": "6VHVW51IUnjy"
   },
   "source": [
    "## Task 2\n",
    "Any quantum state can be written in the form of a superposition of the $\\ket{0}$ and $\\ket{1}$ states in the dirac notation. So any single qubit quantum state, $\\ket{\\psi}$, can be written as:\n",
    "$\\begin{equation}\\ket{\\psi} = \\alpha \\ket{0} + \\beta \\ket{1} \\end{equation}$ where the squares of the coefficients of $\\ket{0}$ and $\\ket{1}$ are equal to the respective probability of the output on measuring $\\ket{\\psi}$. <br>\n",
    "Similarly, two qubit states can be described by: $\\displaystyle \\begin{equation}\\ket{\\psi} = \\sum_{j, k\\in\\{0,1\\}} \\alpha_{jk}\\ket{j k} \\end{equation}$\n",
    "\n",
    "Using simple quantum gates like the ones you have learnt in [Section 1.4](https://qiskit.org/textbook/ch-states/single-qubit-gates.html) and [Section 2.2](https://qiskit.org/textbook/ch-gates/multiple-qubits-entangled-states.html), prepare the superposition state described by:\n",
    "<center>$\\begin{align} \\ket{\\psi} = \\dfrac{1}{2}\\ket{01} + \\dfrac{1}{2}\\ket{10} + \\dfrac{1}{\\sqrt{2}}\\ket{00} \\end{align}$ </center>\n",
    "\n",
    "\n"
   ]
  },
  {
   "cell_type": "code",
   "execution_count": 33,
   "metadata": {
    "id": "c3toK3RhD6ta"
   },
   "outputs": [],
   "source": [
    "from qiskit import *\n",
    "from qiskit.circuit.library.standard_gates import HGate\n",
    "\n",
    "from qiskit.tools.visualization import plot_histogram\n",
    "import math\n",
    "\n",
    "def A2_solve():\n",
    "  #enter your code here, specify the qubits in QuantumCircuit\n",
    "    qc = QuantumCircuit(2,2)\n",
    "    qc.h(0)\n",
    "    ch_gate = HGate().control(1)\n",
    "    qc.append(ch_gate,[0,1])\n",
    "    qc.cx(1,0)\n",
    "    qc.measure_all()\n",
    "#     simulator = Aer.get_backend('qasm_simulator')\n",
    "#         #This is done to simulate the curcuit to check if it is correct or not\n",
    "#     result = execute(qc, backend = simulator).result()\n",
    "#     plot_histogram(result.get_counts(qc))\n",
    "\n",
    "\n",
    "    return \n",
    "\n",
    "if __name__ == \"__main__\":\n",
    "    A2_solve()\n",
    "\n",
    "    "
   ]
  },
  {
   "cell_type": "markdown",
   "metadata": {
    "id": "Ap8WCoO25ST8"
   },
   "source": [
    "## Task 3 \n",
    "\n",
    "A full subtractor is a combinational circuit that performs subtraction of two bits in classical computation. A thorough explanation and implementation of the circuit can be found here: [Full Subtractor Circuit in digital logic](www.geeksforgeeks.org/full-subtractor-in-digital-logic/). Throughout this challenge you may have realised that the quantum gates are very similar to classical gates, and the elementary quantum gates can be used in place of their classical analogues in a quantum circuit. \n",
    "\n",
    "Your task is to implement a full subtractor circuit using only quantum gates.  You can take help from the resource mentioned above, and try to replace the classical gates with their quantum analogues. In more precise terms, you must reproduce the results of the truth table that can be found in the link above.\n",
    "\n",
    "**Input:** Three values: $A$, $B$, $B_{in}$; that correspond to the truth table.\n",
    "\n",
    "**Output:** Two values: $D$, $B_{out}$ (You must measure two qubits in your circuit)\n",
    "\n",
    "There is a bonus point for using the minimum number of qubits."
   ]
  },
  {
   "cell_type": "code",
   "execution_count": 14,
   "metadata": {
    "id": "ZHkxLR6hTuRW"
   },
   "outputs": [
    {
     "name": "stdout",
     "output_type": "stream",
     "text": [
      "     ┌───┐ ░ ┌───┐          ┌───┐             \n",
      "q_0: ┤ X ├─░─┤ X ├──■────■──┤ X ├──■──────────\n",
      "     ├───┤ ░ └───┘  │    │  └───┘┌─┴─┐┌───┐┌─┐\n",
      "q_1: ┤ X ├─░────────┼────■────■──┤ X ├┤ X ├┤M├\n",
      "     ├───┤ ░        │    │    │  └───┘└─┬─┘└╥┘\n",
      "q_2: ┤ X ├─░────────■────┼────■─────────■───╫─\n",
      "     └───┘ ░      ┌─┴─┐┌─┴─┐┌─┴─┐ ┌─┐       ║ \n",
      "q_3: ──────░──────┤ X ├┤ X ├┤ X ├─┤M├───────╫─\n",
      "           ░      └───┘└───┘└───┘ └╥┘       ║ \n",
      "c: 2/══════════════════════════════╩════════╩═\n",
      "                                   1        0 \n",
      "1 1\n"
     ]
    }
   ],
   "source": [
    "from qiskit import *\n",
    "\n",
    "def A3_solve(inputBits):\n",
    "    no_of_qubits_used =   4                       #Enter the number of qubits you require\n",
    "    qc = QuantumCircuit(no_of_qubits_used, 2)\n",
    "    for i in range(0, len(inputBits)):\n",
    "        if inputBits[i] == 1:\n",
    "            qc.x(i)\n",
    "  #Enter code from here:\n",
    "    qc.barrier()\n",
    "    \n",
    "    qc.x(0)\n",
    "    qc.ccx(0,2,3)\n",
    "    qc.ccx(0,1,3)\n",
    "    qc.ccx(1,2,3)\n",
    "    qc.x(0)\n",
    "    qc.cx(0,1)\n",
    "    qc.cx(2,1)\n",
    "    \n",
    "    qc.measure([1,3],[0,1])#the zeroth classical bit will show the Difference and The 1st bit will show the Borrow \n",
    "\n",
    "\n",
    "\n",
    "\n",
    "  ################### Tests ##################################### \n",
    "    print(qc.draw())\n",
    "    backend = Aer.get_backend('qasm_simulator')\n",
    "    job = execute(qc, backend)\n",
    "    counts = job.result().get_counts()\n",
    "    outputList = list(counts.keys())\n",
    "    if len(outputList) != 1 or len(outputList[0][0]) > 2:\n",
    "        print('Error: There are too many outputs.')\n",
    "        return\n",
    "    output = outputList[0]\n",
    "    if len(output) != 2:\n",
    "        print('Error: There are too few outputs. Please make sure you are *measuring* the appropriate qubits in your circuit. Use qc.measure() method to measure the qubits.')\n",
    "        return\n",
    "\n",
    "    return output[0], output[1]\n",
    "\n",
    "if __name__ == \"__main__\":\n",
    "  A = 1\n",
    "  B = 1\n",
    "  B_in = 1\n",
    "  _D, _Bout = A3_solve([A, B, B_in])\n",
    "  print(_D, _Bout)\n",
    "  #You need to check whether these are consistent with the truth table yourself."
   ]
  },
  {
   "cell_type": "markdown",
   "metadata": {},
   "source": [
    "## Additional information\n",
    "\n",
    "**Created by:** Yashee Sinha"
   ]
  }
 ],
 "metadata": {
  "colab": {
   "collapsed_sections": [],
   "name": "SectionA_QC_Hackathon.ipynb",
   "provenance": []
  },
  "kernelspec": {
   "display_name": "Python 3",
   "language": "python",
   "name": "python3"
  },
  "language_info": {
   "codemirror_mode": {
    "name": "ipython",
    "version": 3
   },
   "file_extension": ".py",
   "mimetype": "text/x-python",
   "name": "python",
   "nbconvert_exporter": "python",
   "pygments_lexer": "ipython3",
   "version": "3.8.5"
  }
 },
 "nbformat": 4,
 "nbformat_minor": 1
}
