{
 "cells": [
  {
   "cell_type": "markdown",
   "id": "utility-shame",
   "metadata": {},
   "source": [
    "# Challenge Tier - III\n",
    "## Quantum Machine Learning\n",
    "\n",
    "### Introduction\n",
    "Machine Learning has been the buzz word for the past few years and the reason being the development of the better algorithms and the increase in the computation power over these years. Also, in the field of quantum computing there are algorithms known as Variational algorithms, which are based on optimizing the parameters of a circuit, using a classical control.These also have applications in quantum computing and especially in the area of Quantum Machine Learning(QML).\n",
    "\n",
    "### What is Machine Learning?\n",
    "Machine Learning is a system of computer algorithms that can learn from example through self-improvement without being explicitly coded by a programmer. Machine learning is a part of artificial Intelligence which combines data with statistical tools to predict an output which can be used to make actionable insights.\n",
    "The basic premise of machine learning is to build algorithms that can receive input data and use statistical analysis to predict an output while updating outputs as new data becomes available.\n",
    "\n",
    "These days there are lot of available libraries that provide you with the algorithms which you may directly use for the ML problems. They require an appropriate choice of the algorithm to be used, dataset to be analyzed and it returns with a model, which you may use.\n",
    "\n",
    "### Why is there a need of QML?\n",
    "The classical Machine Learning problem has two major limitations:\n",
    "1. The classical ML lagos might be slow and might get affected by the huge amount of training data. The training time required for the best algorithms available would be high, when the volume of data is huge. If this data is quantum in nature, the quantum computer can outrun the classical computers.\n",
    "2. The second limitation is that for increasing the degrees of freedom the number of classical bits should also increase accordingly. This can be tackled by using the quantum property of superposition. Using superposition we can encode more information efficiently and thus giving us a better result with fewer resources."
   ]
  },
  {
   "cell_type": "markdown",
   "id": "virgin-connectivity",
   "metadata": {},
   "source": [
    "## Problem\n",
    "#### (This is an open-ended problem)\n",
    "The main aim of the challenge is to play with QML models, and use them for various classification tasks on classical datasets.\n",
    "\n",
    "There are three stages in a QML circuit:\n",
    "1. Encoding/Embedding the data\n",
    "2. Parameterized Quantum Circuits and measurement\n",
    "3. Optimizing the parameters using classical optimizer\n",
    "\n",
    "There can be alterations to the 3-stage structure too, and various approaches with the embedding of data.\n",
    "\n",
    "### Task 1(Tutorial)\n",
    "Classification task on the existing Iris dataset [Iris dataset](https://archive.ics.uci.edu/ml/datasets/iris), using the QML methods described in the tutorial we will classify the Iris dataset.\n",
    "You may follow this [tutorial](https://pennylane.ai/qml/demos/tutorial_variational_classifier.html#id3), so that you yourselves acquianted with the implementation of a QML model on a real world dataset.\n",
    "##### NOTE:\n",
    "You need to experiment with various different circuits (any stage encoding/PQC) other than the ones given in the tutorial, and you have to submit the various findings for the same dataset(Iris).  \n",
    "##### BONUS :  if you showcase your findings using graphs, curves and various metrics."
   ]
  },
  {
   "cell_type": "code",
   "execution_count": 2,
   "id": "365afe52",
   "metadata": {},
   "outputs": [],
   "source": [
    "import pennylane as qml\n",
    "from pennylane import numpy as np\n",
    "from pennylane.optimize import NesterovMomentumOptimizer"
   ]
  },
  {
   "cell_type": "markdown",
   "id": "606808e8",
   "metadata": {},
   "source": [
    "Model 1\n",
    "Number of qubits = 2\n",
    "Number of Layers = 8\n",
    "Batch size = 10"
   ]
  },
  {
   "cell_type": "code",
   "execution_count": 35,
   "id": "0668dc30",
   "metadata": {},
   "outputs": [],
   "source": [
    "dev = qml.device(\"default.qubit\", wires=2)"
   ]
  },
  {
   "cell_type": "code",
   "execution_count": 36,
   "id": "de5be3ee",
   "metadata": {},
   "outputs": [],
   "source": [
    "def get_angles(x):\n",
    "\n",
    "    beta0 = 2 * np.arcsin(np.sqrt(x[1] ** 2) / np.sqrt(x[0] ** 2 + x[1] ** 2 + 1e-12))\n",
    "    beta1 = 2 * np.arcsin(np.sqrt(x[3] ** 2) / np.sqrt(x[2] ** 2 + x[3] ** 2 + 1e-12))\n",
    "    beta2 = 2 * np.arcsin(\n",
    "        np.sqrt(x[2] ** 2 + x[3] ** 2)\n",
    "        / np.sqrt(x[0] ** 2 + x[1] ** 2 + x[2] ** 2 + x[3] ** 2)\n",
    "    )\n",
    "\n",
    "    return np.array([beta2, -beta1 / 2, beta1 / 2, -beta0 / 2, beta0 / 2])\n",
    "\n",
    "\n",
    "def statepreparation(a):\n",
    "    qml.RY(a[0], wires=0)\n",
    "\n",
    "    qml.CNOT(wires=[0, 1])\n",
    "    qml.RY(a[1], wires=1)\n",
    "    qml.CNOT(wires=[0, 1])\n",
    "    qml.RY(a[2], wires=1)\n",
    "\n",
    "    qml.PauliX(wires=0)\n",
    "    qml.CNOT(wires=[0, 1])\n",
    "    qml.RY(a[3], wires=1)\n",
    "    qml.CNOT(wires=[0, 1])\n",
    "    qml.RY(a[4], wires=1)\n",
    "    qml.PauliX(wires=0)"
   ]
  },
  {
   "cell_type": "code",
   "execution_count": 37,
   "id": "3419834d",
   "metadata": {},
   "outputs": [
    {
     "name": "stdout",
     "output_type": "stream",
     "text": [
      "x               :  [0.53896774 0.79503606 0.27826503 0.        ]\n",
      "angles          :  [ 0.56397465 -0.          0.         -0.97504604  0.97504604]\n",
      "amplitude vector:  [ 5.38967743e-01  7.95036065e-01  2.78265032e-01 -2.77555756e-17]\n"
     ]
    }
   ],
   "source": [
    "x = np.array([0.53896774, 0.79503606, 0.27826503, 0.0], requires_grad=False)\n",
    "ang = get_angles(x)\n",
    "\n",
    "\n",
    "@qml.qnode(dev)\n",
    "def test(angles):\n",
    "\n",
    "    statepreparation(angles)\n",
    "\n",
    "    return qml.expval(qml.PauliZ(0))\n",
    "\n",
    "\n",
    "test(ang)\n",
    "\n",
    "print(\"x               : \", x)\n",
    "print(\"angles          : \", ang)\n",
    "print(\"amplitude vector: \", np.real(dev.state))"
   ]
  },
  {
   "cell_type": "code",
   "execution_count": 38,
   "id": "6543530d",
   "metadata": {},
   "outputs": [],
   "source": [
    "def layer(W):\n",
    "    qml.Rot(W[0, 0], W[0, 1], W[0, 2], wires=0)\n",
    "    qml.Rot(W[1, 0], W[1, 1], W[1, 2], wires=1)\n",
    "    qml.CNOT(wires=[0, 1])"
   ]
  },
  {
   "cell_type": "code",
   "execution_count": 39,
   "id": "646fa2f4",
   "metadata": {},
   "outputs": [],
   "source": [
    "@qml.qnode(dev)\n",
    "def circuit(weights, angles):\n",
    "    statepreparation(angles)\n",
    "\n",
    "    for W in weights:\n",
    "        layer(W)\n",
    "\n",
    "    return qml.expval(qml.PauliZ(0))\n",
    "\n",
    "\n",
    "def variational_classifier(var, angles):\n",
    "    weights = var[0]\n",
    "    bias = var[1]\n",
    "    return circuit(weights, angles) + bias\n",
    "\n",
    "\n",
    "def cost(weights, features, labels):\n",
    "    predictions = [variational_classifier(weights, f) for f in features]\n",
    "    return square_loss(labels, predictions)"
   ]
  },
  {
   "cell_type": "code",
   "execution_count": 40,
   "id": "b9ef3266",
   "metadata": {},
   "outputs": [
    {
     "name": "stdout",
     "output_type": "stream",
     "text": [
      "First X sample (original)  : [0.4  0.75]\n",
      "First X sample (padded)    : [0.4  0.75 0.3  0.  ]\n",
      "First X sample (normalized): [0.44376016 0.83205029 0.33282012 0.        ]\n",
      "First features sample      : [ 0.67858523 -0.          0.         -1.080839    1.080839  ]\n"
     ]
    }
   ],
   "source": [
    "data = np.loadtxt(\"iris_dataset.txt\")\n",
    "X = data[:, 0:2]\n",
    "print(\"First X sample (original)  :\", X[0])\n",
    "\n",
    "# pad the vectors to size 2^2 with constant values\n",
    "padding = 0.3 * np.ones((len(X), 1))\n",
    "X_pad = np.c_[np.c_[X, padding], np.zeros((len(X), 1))]\n",
    "print(\"First X sample (padded)    :\", X_pad[0])\n",
    "\n",
    "# normalize each input\n",
    "normalization = np.sqrt(np.sum(X_pad ** 2, -1))\n",
    "X_norm = (X_pad.T / normalization).T\n",
    "print(\"First X sample (normalized):\", X_norm[0])\n",
    "\n",
    "# angles for state preparation are new features\n",
    "features = np.array([get_angles(x) for x in X_norm])\n",
    "print(\"First features sample      :\", features[0])\n",
    "\n",
    "Y = data[:, -1]"
   ]
  },
  {
   "cell_type": "code",
   "execution_count": 41,
   "id": "6c52d143",
   "metadata": {},
   "outputs": [
    {
     "data": {
      "image/png": "[encoded data removed]",
      "text/plain": [
       "<Figure size 432x288 with 1 Axes>"
      ]
     },
     "metadata": {
      "needs_background": "light"
     },
     "output_type": "display_data"
    },
    {
     "data": {
      "image/png": "[encoded data removed]",
      "text/plain": [
       "<Figure size 432x288 with 1 Axes>"
      ]
     },
     "metadata": {
      "needs_background": "light"
     },
     "output_type": "display_data"
    },
    {
     "data": {
      "image/png": "[encoded data removed]",
      "text/plain": [
       "<Figure size 432x288 with 1 Axes>"
      ]
     },
     "metadata": {
      "needs_background": "light"
     },
     "output_type": "display_data"
    }
   ],
   "source": [
    "import matplotlib.pyplot as plt\n",
    "\n",
    "plt.figure()\n",
    "plt.scatter(X[:, 0][Y == 1], X[:, 1][Y == 1], c=\"b\", marker=\"o\", edgecolors=\"k\")\n",
    "plt.scatter(X[:, 0][Y == -1], X[:, 1][Y == -1], c=\"r\", marker=\"o\", edgecolors=\"k\")\n",
    "plt.title(\"Original data\")\n",
    "plt.show()\n",
    "\n",
    "plt.figure()\n",
    "dim1 = 0\n",
    "dim2 = 1\n",
    "plt.scatter(\n",
    "    X_norm[:, dim1][Y == 1], X_norm[:, dim2][Y == 1], c=\"b\", marker=\"o\", edgecolors=\"k\"\n",
    ")\n",
    "plt.scatter(\n",
    "    X_norm[:, dim1][Y == -1], X_norm[:, dim2][Y == -1], c=\"r\", marker=\"o\", edgecolors=\"k\"\n",
    ")\n",
    "plt.title(\"Padded and normalised data (dims {} and {})\".format(dim1, dim2))\n",
    "plt.show()\n",
    "\n",
    "plt.figure()\n",
    "dim1 = 0\n",
    "dim2 = 3\n",
    "plt.scatter(\n",
    "    features[:, dim1][Y == 1], features[:, dim2][Y == 1], c=\"b\", marker=\"o\", edgecolors=\"k\"\n",
    ")\n",
    "plt.scatter(\n",
    "    features[:, dim1][Y == -1], features[:, dim2][Y == -1], c=\"r\", marker=\"o\", edgecolors=\"k\"\n",
    ")\n",
    "plt.title(\"Feature vectors (dims {} and {})\".format(dim1, dim2))\n",
    "plt.show()"
   ]
  },
  {
   "cell_type": "code",
   "execution_count": 42,
   "id": "33df6763",
   "metadata": {},
   "outputs": [],
   "source": [
    "np.random.seed(0)\n",
    "num_data = len(Y)\n",
    "num_train = int(0.75 * num_data)\n",
    "index = np.random.permutation(range(num_data))\n",
    "feats_train = features[index[:num_train]]\n",
    "Y_train = Y[index[:num_train]]\n",
    "feats_val = features[index[num_train:]]\n",
    "Y_val = Y[index[num_train:]]\n",
    "\n",
    "# We need these later for plotting\n",
    "X_train = X[index[:num_train]]\n",
    "X_val = X[index[num_train:]]"
   ]
  },
  {
   "cell_type": "code",
   "execution_count": 43,
   "id": "e5bcad2f",
   "metadata": {},
   "outputs": [],
   "source": [
    "num_qubits = 2\n",
    "num_layers = 8\n",
    "var_init = (0.01 * np.random.randn(num_layers, num_qubits, 3), 0.0)"
   ]
  },
  {
   "cell_type": "code",
   "execution_count": 44,
   "id": "7f344e7f",
   "metadata": {},
   "outputs": [],
   "source": [
    "def square_loss(labels, predictions):\n",
    "    loss = 0\n",
    "    for l, p in zip(labels, predictions):\n",
    "        loss = loss + (l - p) ** 2\n",
    "\n",
    "    loss = loss / len(labels)\n",
    "    return loss"
   ]
  },
  {
   "cell_type": "code",
   "execution_count": 45,
   "id": "95c89be7",
   "metadata": {},
   "outputs": [],
   "source": [
    "def accuracy(labels, predictions):\n",
    "\n",
    "    loss = 0\n",
    "    for l, p in zip(labels, predictions):\n",
    "        if abs(l - p) < 1e-5:\n",
    "            loss = loss + 1\n",
    "    loss = loss / len(labels)\n",
    "\n",
    "    return loss"
   ]
  },
  {
   "cell_type": "code",
   "execution_count": 46,
   "id": "fc03fd10",
   "metadata": {},
   "outputs": [
    {
     "name": "stdout",
     "output_type": "stream",
     "text": [
      "Iter:     1 | Cost: 1.4269709 | Acc train: 0.4933333 | Acc validation: 0.5600000 \n",
      "Iter:     2 | Cost: 1.2998953 | Acc train: 0.4933333 | Acc validation: 0.5600000 \n",
      "Iter:     3 | Cost: 1.1745690 | Acc train: 0.4800000 | Acc validation: 0.5600000 \n",
      "Iter:     4 | Cost: 1.0500642 | Acc train: 0.4666667 | Acc validation: 0.5600000 \n",
      "Iter:     5 | Cost: 0.9816329 | Acc train: 0.4933333 | Acc validation: 0.5600000 \n",
      "Iter:     6 | Cost: 0.9036565 | Acc train: 0.5466667 | Acc validation: 0.6400000 \n",
      "Iter:     7 | Cost: 0.8400370 | Acc train: 0.6266667 | Acc validation: 0.7600000 \n",
      "Iter:     8 | Cost: 0.7992997 | Acc train: 0.7733333 | Acc validation: 0.8800000 \n",
      "Iter:     9 | Cost: 0.7873230 | Acc train: 0.7733333 | Acc validation: 0.7200000 \n",
      "Iter:    10 | Cost: 0.7960044 | Acc train: 0.6666667 | Acc validation: 0.6400000 \n",
      "Iter:    11 | Cost: 0.7859364 | Acc train: 0.6400000 | Acc validation: 0.6400000 \n",
      "Iter:    12 | Cost: 0.7687585 | Acc train: 0.6400000 | Acc validation: 0.6400000 \n",
      "Iter:    13 | Cost: 0.7647352 | Acc train: 0.6266667 | Acc validation: 0.6400000 \n",
      "Iter:    14 | Cost: 0.7496084 | Acc train: 0.6533333 | Acc validation: 0.6400000 \n",
      "Iter:    15 | Cost: 0.7328789 | Acc train: 0.7200000 | Acc validation: 0.6800000 \n",
      "Iter:    16 | Cost: 0.7355659 | Acc train: 0.6666667 | Acc validation: 0.6400000 \n",
      "Iter:    17 | Cost: 0.7446632 | Acc train: 0.5866667 | Acc validation: 0.5200000 \n",
      "Iter:    18 | Cost: 0.7483722 | Acc train: 0.5733333 | Acc validation: 0.5200000 \n",
      "Iter:    19 | Cost: 0.7587686 | Acc train: 0.5600000 | Acc validation: 0.4800000 \n",
      "Iter:    20 | Cost: 0.7351191 | Acc train: 0.5733333 | Acc validation: 0.5200000 \n",
      "Iter:    21 | Cost: 0.7270259 | Acc train: 0.5733333 | Acc validation: 0.5200000 \n",
      "Iter:    22 | Cost: 0.7152330 | Acc train: 0.5866667 | Acc validation: 0.5600000 \n",
      "Iter:    23 | Cost: 0.6886600 | Acc train: 0.6266667 | Acc validation: 0.6000000 \n",
      "Iter:    24 | Cost: 0.6636136 | Acc train: 0.6666667 | Acc validation: 0.6800000 \n",
      "Iter:    25 | Cost: 0.6204720 | Acc train: 0.8800000 | Acc validation: 0.8400000 \n",
      "Iter:    26 | Cost: 0.5880339 | Acc train: 0.9333333 | Acc validation: 0.9600000 \n",
      "Iter:    27 | Cost: 0.5656051 | Acc train: 0.9866667 | Acc validation: 1.0000000 \n",
      "Iter:    28 | Cost: 0.5332223 | Acc train: 0.9866667 | Acc validation: 1.0000000 \n",
      "Iter:    29 | Cost: 0.5028670 | Acc train: 0.9866667 | Acc validation: 1.0000000 \n",
      "Iter:    30 | Cost: 0.4689196 | Acc train: 0.9466667 | Acc validation: 1.0000000 \n"
     ]
    }
   ],
   "source": [
    "opt = NesterovMomentumOptimizer(0.01)\n",
    "batch_size = 10\n",
    "\n",
    "# train the variational classifier\n",
    "var = var_init\n",
    "for it in range(30):\n",
    "\n",
    "    # Update the weights by one optimizer step\n",
    "    batch_index = np.random.randint(0, num_train, (batch_size,))\n",
    "    feats_train_batch = feats_train[batch_index]\n",
    "    Y_train_batch = Y_train[batch_index]\n",
    "    var = opt.step(lambda v: cost(v, feats_train_batch, Y_train_batch), var)\n",
    "\n",
    "    # Compute predictions on train and validation set\n",
    "    predictions_train = [np.sign(variational_classifier(var, f)) for f in feats_train]\n",
    "    predictions_val = [np.sign(variational_classifier(var, f)) for f in feats_val]\n",
    "\n",
    "    # Compute accuracy on train and validation set\n",
    "    acc_train = accuracy(Y_train, predictions_train)\n",
    "    acc_val = accuracy(Y_val, predictions_val)\n",
    "\n",
    "    print(\n",
    "        \"Iter: {:5d} | Cost: {:0.7f} | Acc train: {:0.7f} | Acc validation: {:0.7f} \"\n",
    "        \"\".format(it + 1, cost(var, features, Y), acc_train, acc_val)\n",
    "    )"
   ]
  },
  {
   "cell_type": "code",
   "execution_count": 47,
   "id": "68a25a83",
   "metadata": {},
   "outputs": [
    {
     "data": {
      "image/png": "[encoded data removed]",
      "text/plain": [
       "<Figure size 432x288 with 2 Axes>"
      ]
     },
     "metadata": {
      "needs_background": "light"
     },
     "output_type": "display_data"
    }
   ],
   "source": [
    "plt.figure()\n",
    "cm = plt.cm.RdBu\n",
    "\n",
    "# make data for decision regions\n",
    "xx, yy = np.meshgrid(np.linspace(0.0, 1.5, 20), np.linspace(0.0, 1.5, 20))\n",
    "X_grid = [np.array([x, y]) for x, y in zip(xx.flatten(), yy.flatten())]\n",
    "\n",
    "# preprocess grid points like data inputs above\n",
    "padding = 0.3 * np.ones((len(X_grid), 1))\n",
    "X_grid = np.c_[np.c_[X_grid, padding], np.zeros((len(X_grid), 1))]  # pad each input\n",
    "normalization = np.sqrt(np.sum(X_grid ** 2, -1))\n",
    "X_grid = (X_grid.T / normalization).T  # normalize each input\n",
    "features_grid = np.array(\n",
    "    [get_angles(x) for x in X_grid]\n",
    ")  # angles for state preparation are new features\n",
    "predictions_grid = [variational_classifier(var, f) for f in features_grid]\n",
    "Z = np.reshape(predictions_grid, xx.shape)\n",
    "\n",
    "# plot decision regions\n",
    "cnt = plt.contourf(\n",
    "    xx, yy, Z, levels=np.arange(-1, 1.1, 0.1), cmap=cm, alpha=0.8, extend=\"both\"\n",
    ")\n",
    "plt.contour(\n",
    "    xx, yy, Z, levels=[0.0], colors=(\"black\",), linestyles=(\"--\",), linewidths=(0.8,)\n",
    ")\n",
    "plt.colorbar(cnt, ticks=[-1, 0, 1])\n",
    "\n",
    "# plot data\n",
    "plt.scatter(\n",
    "    X_train[:, 0][Y_train == 1],\n",
    "    X_train[:, 1][Y_train == 1],\n",
    "    c=\"b\",\n",
    "    marker=\"o\",\n",
    "    edgecolors=\"k\",\n",
    "    label=\"class 1 train\",\n",
    ")\n",
    "plt.scatter(\n",
    "    X_val[:, 0][Y_val == 1],\n",
    "    X_val[:, 1][Y_val == 1],\n",
    "    c=\"b\",\n",
    "    marker=\"^\",\n",
    "    edgecolors=\"k\",\n",
    "    label=\"class 1 validation\",\n",
    ")\n",
    "plt.scatter(\n",
    "    X_train[:, 0][Y_train == -1],\n",
    "    X_train[:, 1][Y_train == -1],\n",
    "    c=\"r\",\n",
    "    marker=\"o\",\n",
    "    edgecolors=\"k\",\n",
    "    label=\"class -1 train\",\n",
    ")\n",
    "plt.scatter(\n",
    "    X_val[:, 0][Y_val == -1],\n",
    "    X_val[:, 1][Y_val == -1],\n",
    "    c=\"r\",\n",
    "    marker=\"^\",\n",
    "    edgecolors=\"k\",\n",
    "    label=\"class -1 validation\",\n",
    ")\n",
    "\n",
    "plt.legend()\n",
    "plt.show()"
   ]
  },
  {
   "cell_type": "markdown",
   "id": "112b92c8",
   "metadata": {},
   "source": [
    "Model 2 \n",
    "Number of qubits = 3\n",
    "Number of Layers = 8\n",
    "Batch size =10"
   ]
  },
  {
   "cell_type": "code",
   "execution_count": 48,
   "id": "a52ccf76",
   "metadata": {},
   "outputs": [],
   "source": [
    "dev2 = qml.device(\"default.qubit\", wires=3)"
   ]
  },
  {
   "cell_type": "code",
   "execution_count": 49,
   "id": "fae7d8d5",
   "metadata": {},
   "outputs": [],
   "source": [
    "def get_angles(x):\n",
    "\n",
    "    beta0 = 2 * np.arcsin(np.sqrt(x[1] ** 2) / np.sqrt(x[0] ** 2 + x[1] ** 2 + 1e-12))\n",
    "    beta1 = 2 * np.arcsin(np.sqrt(x[3] ** 2) / np.sqrt(x[2] ** 2 + x[3] ** 2 + 1e-12))\n",
    "    beta2 = 2 * np.arcsin(\n",
    "        np.sqrt(x[2] ** 2 + x[3] ** 2)\n",
    "        / np.sqrt(x[0] ** 2 + x[1] ** 2 + x[2] ** 2 + x[3] ** 2)\n",
    "    )\n",
    "\n",
    "    return np.array([beta2, -beta1 / 2, beta1 / 2, -beta0 / 2, beta0 / 2])\n",
    "\n",
    "\n",
    "def statepreparation(a):\n",
    "    qml.RY(a[0], wires=0)\n",
    "\n",
    "    qml.CNOT(wires=[0, 1])\n",
    "    qml.RY(a[1], wires=1)\n",
    "    qml.RY(a[1], wires=2)\n",
    "    qml.CNOT(wires=[0, 1])\n",
    "    qml.RY(a[2], wires=1)\n",
    "    qml.RY(a[2], wires=2)\n",
    "\n",
    "    qml.PauliX(wires=0)\n",
    "    qml.CNOT(wires=[0, 1])\n",
    "    qml.RY(a[3], wires=1)\n",
    "    qml.RY(a[3], wires=2)\n",
    "    qml.CNOT(wires=[0, 1])\n",
    "    qml.RY(a[4], wires=1)\n",
    "    qml.RY(a[4], wires=2)\n",
    "    qml.PauliX(wires=0)"
   ]
  },
  {
   "cell_type": "code",
   "execution_count": 50,
   "id": "fb1688d1",
   "metadata": {},
   "outputs": [
    {
     "name": "stdout",
     "output_type": "stream",
     "text": [
      "x               :  [0.53896774 0.79503606 0.27826503 0.        ]\n",
      "angles          :  [ 0.56397465 -0.          0.         -0.97504604  0.97504604]\n",
      "amplitude vector:  [ 5.38967743e-01  2.77555756e-17  7.95036065e-01  5.55111512e-17\n",
      "  2.78265032e-01  0.00000000e+00 -1.55114164e-17 -3.70411831e-19]\n"
     ]
    }
   ],
   "source": [
    "x = np.array([0.53896774, 0.79503606, 0.27826503, 0.0], requires_grad=False)\n",
    "ang = get_angles(x)\n",
    "\n",
    "\n",
    "@qml.qnode(dev2)\n",
    "def test(angles):\n",
    "\n",
    "    statepreparation(angles)\n",
    "\n",
    "    return qml.expval(qml.PauliZ(0))\n",
    "\n",
    "\n",
    "test(ang)\n",
    "\n",
    "print(\"x               : \", x)\n",
    "print(\"angles          : \", ang)\n",
    "print(\"amplitude vector: \", np.real(dev2.state))"
   ]
  },
  {
   "cell_type": "code",
   "execution_count": 51,
   "id": "cb008b89",
   "metadata": {},
   "outputs": [],
   "source": [
    "def layer(W):\n",
    "    qml.Rot(W[0, 0], W[0, 1], W[0, 2], wires=0)\n",
    "    qml.Rot(W[1, 0], W[1, 1], W[1, 2], wires=1)\n",
    "    qml.Rot(W[2, 0], W[2, 1], W[2, 2], wires=2)\n",
    "    qml.CNOT(wires=[0, 1])"
   ]
  },
  {
   "cell_type": "code",
   "execution_count": 52,
   "id": "7ddae542",
   "metadata": {},
   "outputs": [],
   "source": [
    "@qml.qnode(dev2)\n",
    "def circuit(weights, angles):\n",
    "    statepreparation(angles)\n",
    "\n",
    "    for W in weights:\n",
    "        layer(W)\n",
    "\n",
    "    return qml.expval(qml.PauliZ(0))\n",
    "\n",
    "\n",
    "def variational_classifier(var, angles):\n",
    "    weights = var[0]\n",
    "    bias = var[1]\n",
    "    return circuit(weights, angles) + bias\n",
    "\n",
    "\n",
    "def cost(weights, features, labels):\n",
    "    predictions = [variational_classifier(weights, f) for f in features]\n",
    "    return square_loss(labels, predictions)"
   ]
  },
  {
   "cell_type": "code",
   "execution_count": 53,
   "id": "c3d499d6",
   "metadata": {},
   "outputs": [
    {
     "name": "stdout",
     "output_type": "stream",
     "text": [
      "First X sample (original)  : [0.4  0.75]\n",
      "First X sample (padded)    : [0.4  0.75 0.3  0.  ]\n",
      "First X sample (normalized): [0.44376016 0.83205029 0.33282012 0.        ]\n",
      "First features sample      : [ 0.67858523 -0.          0.         -1.080839    1.080839  ]\n"
     ]
    }
   ],
   "source": [
    "data = np.loadtxt(\"iris_dataset.txt\")\n",
    "X = data[:, 0:2]\n",
    "print(\"First X sample (original)  :\", X[0])\n",
    "\n",
    "# pad the vectors to size 2^2 with constant values\n",
    "padding = 0.3 * np.ones((len(X), 1))\n",
    "X_pad = np.c_[np.c_[X, padding], np.zeros((len(X), 1))]\n",
    "print(\"First X sample (padded)    :\", X_pad[0])\n",
    "\n",
    "# normalize each input\n",
    "normalization = np.sqrt(np.sum(X_pad ** 2, -1))\n",
    "X_norm = (X_pad.T / normalization).T\n",
    "print(\"First X sample (normalized):\", X_norm[0])\n",
    "\n",
    "# angles for state preparation are new features\n",
    "features = np.array([get_angles(x) for x in X_norm])\n",
    "print(\"First features sample      :\", features[0])\n",
    "\n",
    "Y = data[:, -1]"
   ]
  },
  {
   "cell_type": "code",
   "execution_count": 54,
   "id": "56687bdf",
   "metadata": {},
   "outputs": [
    {
     "data": {
      "image/png": "[encoded data removed]",
      "text/plain": [
       "<Figure size 432x288 with 1 Axes>"
      ]
     },
     "metadata": {
      "needs_background": "light"
     },
     "output_type": "display_data"
    },
    {
     "data": {
      "image/png": "[encoded data removed]",
      "text/plain": [
       "<Figure size 432x288 with 1 Axes>"
      ]
     },
     "metadata": {
      "needs_background": "light"
     },
     "output_type": "display_data"
    },
    {
     "data": {
      "image/png": "[encoded data removed]",
      "text/plain": [
       "<Figure size 432x288 with 1 Axes>"
      ]
     },
     "metadata": {
      "needs_background": "light"
     },
     "output_type": "display_data"
    }
   ],
   "source": [
    "import matplotlib.pyplot as plt\n",
    "\n",
    "plt.figure()\n",
    "plt.scatter(X[:, 0][Y == 1], X[:, 1][Y == 1], c=\"b\", marker=\"o\", edgecolors=\"k\")\n",
    "plt.scatter(X[:, 0][Y == -1], X[:, 1][Y == -1], c=\"r\", marker=\"o\", edgecolors=\"k\")\n",
    "plt.title(\"Original data\")\n",
    "plt.show()\n",
    "\n",
    "plt.figure()\n",
    "dim1 = 0\n",
    "dim2 = 1\n",
    "plt.scatter(\n",
    "    X_norm[:, dim1][Y == 1], X_norm[:, dim2][Y == 1], c=\"b\", marker=\"o\", edgecolors=\"k\"\n",
    ")\n",
    "plt.scatter(\n",
    "    X_norm[:, dim1][Y == -1], X_norm[:, dim2][Y == -1], c=\"r\", marker=\"o\", edgecolors=\"k\"\n",
    ")\n",
    "plt.title(\"Padded and normalised data (dims {} and {})\".format(dim1, dim2))\n",
    "plt.show()\n",
    "\n",
    "plt.figure()\n",
    "dim1 = 0\n",
    "dim2 = 3\n",
    "plt.scatter(\n",
    "    features[:, dim1][Y == 1], features[:, dim2][Y == 1], c=\"b\", marker=\"o\", edgecolors=\"k\"\n",
    ")\n",
    "plt.scatter(\n",
    "    features[:, dim1][Y == -1], features[:, dim2][Y == -1], c=\"r\", marker=\"o\", edgecolors=\"k\"\n",
    ")\n",
    "plt.title(\"Feature vectors (dims {} and {})\".format(dim1, dim2))\n",
    "plt.show()"
   ]
  },
  {
   "cell_type": "code",
   "execution_count": 55,
   "id": "b24da8d9",
   "metadata": {},
   "outputs": [],
   "source": [
    "np.random.seed(0)\n",
    "num_data = len(Y)\n",
    "num_train = int(0.75 * num_data)\n",
    "index = np.random.permutation(range(num_data))\n",
    "feats_train = features[index[:num_train]]\n",
    "Y_train = Y[index[:num_train]]\n",
    "feats_val = features[index[num_train:]]\n",
    "Y_val = Y[index[num_train:]]\n",
    "\n",
    "# We need these later for plotting\n",
    "X_train = X[index[:num_train]]\n",
    "X_val = X[index[num_train:]]"
   ]
  },
  {
   "cell_type": "code",
   "execution_count": 56,
   "id": "f6782792",
   "metadata": {},
   "outputs": [],
   "source": [
    "num_qubits = 3\n",
    "num_layers = 8\n",
    "var_init = (0.01 * np.random.randn(num_layers, num_qubits, 3), 0.0)"
   ]
  },
  {
   "cell_type": "code",
   "execution_count": 57,
   "id": "7a269007",
   "metadata": {},
   "outputs": [
    {
     "name": "stdout",
     "output_type": "stream",
     "text": [
      "Iter:     1 | Cost: 1.4632863 | Acc train: 0.4933333 | Acc validation: 0.5600000 \n",
      "Iter:     2 | Cost: 1.4110305 | Acc train: 0.4933333 | Acc validation: 0.5600000 \n",
      "Iter:     3 | Cost: 1.3204468 | Acc train: 0.4933333 | Acc validation: 0.5600000 \n",
      "Iter:     4 | Cost: 1.2078571 | Acc train: 0.4800000 | Acc validation: 0.5600000 \n",
      "Iter:     5 | Cost: 1.0594172 | Acc train: 0.4666667 | Acc validation: 0.5600000 \n",
      "Iter:     6 | Cost: 0.9234973 | Acc train: 0.5333333 | Acc validation: 0.7600000 \n",
      "Iter:     7 | Cost: 0.8522614 | Acc train: 0.7333333 | Acc validation: 0.6800000 \n",
      "Iter:     8 | Cost: 0.8542103 | Acc train: 0.6666667 | Acc validation: 0.6400000 \n",
      "Iter:     9 | Cost: 0.8728506 | Acc train: 0.5866667 | Acc validation: 0.5200000 \n",
      "Iter:    10 | Cost: 0.8899902 | Acc train: 0.5466667 | Acc validation: 0.4800000 \n",
      "Iter:    11 | Cost: 0.8819370 | Acc train: 0.5466667 | Acc validation: 0.4800000 \n",
      "Iter:    12 | Cost: 0.8389861 | Acc train: 0.5466667 | Acc validation: 0.4800000 \n",
      "Iter:    13 | Cost: 0.7947669 | Acc train: 0.5466667 | Acc validation: 0.4800000 \n",
      "Iter:    14 | Cost: 0.7747309 | Acc train: 0.5600000 | Acc validation: 0.5200000 \n",
      "Iter:    15 | Cost: 0.7442663 | Acc train: 0.5733333 | Acc validation: 0.5200000 \n",
      "Iter:    16 | Cost: 0.7344581 | Acc train: 0.6000000 | Acc validation: 0.5200000 \n",
      "Iter:    17 | Cost: 0.7131885 | Acc train: 0.7200000 | Acc validation: 0.7200000 \n",
      "Iter:    18 | Cost: 0.7019919 | Acc train: 0.7600000 | Acc validation: 0.7600000 \n",
      "Iter:    19 | Cost: 0.6902775 | Acc train: 0.7866667 | Acc validation: 0.8000000 \n",
      "Iter:    20 | Cost: 0.6716975 | Acc train: 0.8400000 | Acc validation: 0.8000000 \n",
      "Iter:    21 | Cost: 0.6506176 | Acc train: 0.8533333 | Acc validation: 0.8400000 \n",
      "Iter:    22 | Cost: 0.6209409 | Acc train: 0.8800000 | Acc validation: 0.8400000 \n",
      "Iter:    23 | Cost: 0.5876812 | Acc train: 0.9333333 | Acc validation: 0.9600000 \n",
      "Iter:    24 | Cost: 0.5583821 | Acc train: 0.9600000 | Acc validation: 1.0000000 \n",
      "Iter:    25 | Cost: 0.5221003 | Acc train: 0.9733333 | Acc validation: 1.0000000 \n"
     ]
    }
   ],
   "source": [
    "opt = NesterovMomentumOptimizer(0.01)\n",
    "batch_size = 10\n",
    "\n",
    "# train the variational classifier\n",
    "var = var_init\n",
    "for it in range(25):\n",
    "\n",
    "    # Update the weights by one optimizer step\n",
    "    batch_index = np.random.randint(0, num_train, (batch_size,))\n",
    "    feats_train_batch = feats_train[batch_index]\n",
    "    Y_train_batch = Y_train[batch_index]\n",
    "    var = opt.step(lambda v: cost(v, feats_train_batch, Y_train_batch), var)\n",
    "\n",
    "    # Compute predictions on train and validation set\n",
    "    predictions_train = [np.sign(variational_classifier(var, f)) for f in feats_train]\n",
    "    predictions_val = [np.sign(variational_classifier(var, f)) for f in feats_val]\n",
    "\n",
    "    # Compute accuracy on train and validation set\n",
    "    acc_train = accuracy(Y_train, predictions_train)\n",
    "    acc_val = accuracy(Y_val, predictions_val)\n",
    "\n",
    "    print(\n",
    "        \"Iter: {:5d} | Cost: {:0.7f} | Acc train: {:0.7f} | Acc validation: {:0.7f} \"\n",
    "        \"\".format(it + 1, cost(var, features, Y), acc_train, acc_val)\n",
    "    )"
   ]
  },
  {
   "cell_type": "code",
   "execution_count": 58,
   "id": "bb8f2348",
   "metadata": {},
   "outputs": [
    {
     "data": {
      "image/png": "[encoded data removed]",
      "text/plain": [
       "<Figure size 432x288 with 2 Axes>"
      ]
     },
     "metadata": {
      "needs_background": "light"
     },
     "output_type": "display_data"
    }
   ],
   "source": [
    "plt.figure()\n",
    "cm = plt.cm.RdBu\n",
    "\n",
    "# make data for decision regions\n",
    "xx, yy = np.meshgrid(np.linspace(0.0, 1.5, 20), np.linspace(0.0, 1.5, 20))\n",
    "X_grid = [np.array([x, y]) for x, y in zip(xx.flatten(), yy.flatten())]\n",
    "\n",
    "# preprocess grid points like data inputs above\n",
    "padding = 0.3 * np.ones((len(X_grid), 1))\n",
    "X_grid = np.c_[np.c_[X_grid, padding], np.zeros((len(X_grid), 1))]  # pad each input\n",
    "normalization = np.sqrt(np.sum(X_grid ** 2, -1))\n",
    "X_grid = (X_grid.T / normalization).T  # normalize each input\n",
    "features_grid = np.array(\n",
    "    [get_angles(x) for x in X_grid]\n",
    ")  # angles for state preparation are new features\n",
    "predictions_grid = [variational_classifier(var, f) for f in features_grid]\n",
    "Z = np.reshape(predictions_grid, xx.shape)\n",
    "\n",
    "# plot decision regions\n",
    "cnt = plt.contourf(\n",
    "    xx, yy, Z, levels=np.arange(-1, 1.1, 0.1), cmap=cm, alpha=0.8, extend=\"both\"\n",
    ")\n",
    "plt.contour(\n",
    "    xx, yy, Z, levels=[0.0], colors=(\"black\",), linestyles=(\"--\",), linewidths=(0.8,)\n",
    ")\n",
    "plt.colorbar(cnt, ticks=[-1, 0, 1])\n",
    "\n",
    "# plot data\n",
    "plt.scatter(\n",
    "    X_train[:, 0][Y_train == 1],\n",
    "    X_train[:, 1][Y_train == 1],\n",
    "    c=\"b\",\n",
    "    marker=\"o\",\n",
    "    edgecolors=\"k\",\n",
    "    label=\"class 1 train\",\n",
    ")\n",
    "plt.scatter(\n",
    "    X_val[:, 0][Y_val == 1],\n",
    "    X_val[:, 1][Y_val == 1],\n",
    "    c=\"b\",\n",
    "    marker=\"^\",\n",
    "    edgecolors=\"k\",\n",
    "    label=\"class 1 validation\",\n",
    ")\n",
    "plt.scatter(\n",
    "    X_train[:, 0][Y_train == -1],\n",
    "    X_train[:, 1][Y_train == -1],\n",
    "    c=\"r\",\n",
    "    marker=\"o\",\n",
    "    edgecolors=\"k\",\n",
    "    label=\"class -1 train\",\n",
    ")\n",
    "plt.scatter(\n",
    "    X_val[:, 0][Y_val == -1],\n",
    "    X_val[:, 1][Y_val == -1],\n",
    "    c=\"r\",\n",
    "    marker=\"^\",\n",
    "    edgecolors=\"k\",\n",
    "    label=\"class -1 validation\",\n",
    ")\n",
    "\n",
    "plt.legend()\n",
    "plt.show()"
   ]
  },
  {
   "cell_type": "markdown",
   "id": "0c1e2852",
   "metadata": {},
   "source": [
    "Model 1\n",
    "Number of qubits  = 2\n",
    "Number of Layers = 8\n",
    "Batch Size = 10\n",
    "\n",
    "Model 2 \n",
    "Number iof qubits = 3\n",
    "Number of Layers = 8\n",
    "Batch size =10\n",
    "\n",
    "On comparing Both models we can observe that Model 2 takes less time to reach the same accuracy as Model 1 \n",
    "From the plots Model 2 has classified  one training wrongly whereas Model 1 has classified 4 of them as wrongly which can observed from their respective plots."
   ]
  },
  {
   "cell_type": "markdown",
   "id": "suited-certificate",
   "metadata": {},
   "source": [
    "### Task 2(Final Task)\n",
    "There is another popular dataset prevalent in Computer Vision, which is the [MNIST Dataset](https://www.kaggle.com/c/digit-recognizer/data). This dataset is generally used to check the correctness of a CV model.This dataset is more difficult than the Iris dataset, since it has more classes and has a high dimensionality of 784.\n",
    "\n",
    "Your task is to make a QML model to carry out the classification task for the MNIST Dataset and document your findings and steps, using minimum number of qubits. Present your findings along with proper documentation, graphs and explanation."
   ]
  }
 ],
 "metadata": {
  "kernelspec": {
   "display_name": "Python 3",
   "language": "python",
   "name": "python3"
  },
  "language_info": {
   "codemirror_mode": {
    "name": "ipython",
    "version": 3
   },
   "file_extension": ".py",
   "mimetype": "text/x-python",
   "name": "python",
   "nbconvert_exporter": "python",
   "pygments_lexer": "ipython3",
   "version": "3.8.8"
  }
 },
 "nbformat": 4,
 "nbformat_minor": 5
}
